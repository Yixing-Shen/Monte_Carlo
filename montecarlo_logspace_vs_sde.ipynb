{
  "nbformat": 4,
  "nbformat_minor": 0,
  "metadata": {
    "colab": {
      "provenance": []
    },
    "kernelspec": {
      "name": "python3",
      "display_name": "Python 3"
    },
    "language_info": {
      "name": "python"
    }
  },
  "cells": [
    {
      "cell_type": "code",
      "source": [
        "import numpy as np\n",
        "import matplotlib.pyplot as plt\n",
        "from scipy.stats import norm\n",
        "\n",
        "# ============================== Core Functions ==============================\n",
        "def black_scholes_call(S0: float, K: float, T: float, r: float, sigma: float) -> float:\n",
        "    \"\"\"Compute European call option price using Black-Scholes formula.\"\"\"\n",
        "    d1 = (np.log(S0/K) + (r + 0.5*sigma**2)*T) / (sigma*np.sqrt(T))\n",
        "    d2 = d1 - sigma*np.sqrt(T)\n",
        "    return S0 * norm.cdf(d1) - K * np.exp(-r*T) * norm.cdf(d2)\n",
        "\n",
        "def log_space_euler_call_price_vec(M: int, N: int, S0: float, K: float, T: float, r: float, sigma: float) -> float:\n",
        "    \"\"\"Vectorized log-space Monte Carlo simulation for European call option.\"\"\"\n",
        "    dt = T / N\n",
        "    Z = np.random.normal(0, 1, size=(M, N))\n",
        "    X = np.log(S0) + ((r - 0.5*sigma**2)*dt + sigma*np.sqrt(dt)*Z).sum(axis=1)\n",
        "    S_T = np.exp(X)\n",
        "    payoff = np.maximum(S_T - K, 0)\n",
        "    return np.exp(-r*T) * np.mean(payoff)\n",
        "\n",
        "def direct_euler_call_price(M: int, N: int, S0: float, K: float, T: float, r: float, sigma: float) -> float:\n",
        "    \"\"\"Euler-Maruyama discretization for original SDE.\"\"\"\n",
        "    dt = T / N\n",
        "    S = np.full(M, S0)\n",
        "    for _ in range(N):\n",
        "        Z = np.random.normal(0, 1, M)\n",
        "        S += r*S*dt + sigma*S*np.sqrt(dt)*Z\n",
        "    payoff = np.maximum(S - K, 0)\n",
        "    return np.exp(-r*T) * np.mean(payoff)\n",
        "\n",
        "# ============================== Analysis Functions ==============================\n",
        "def plot_convergence(bs_price: float, params: dict):\n",
        "    \"\"\"Generate convergence analysis plots with error visualization.\"\"\"\n",
        "    # Unpack parameters\n",
        "    M_values = params[\"M_values\"]\n",
        "    N_log_space = params[\"N_log_space\"]\n",
        "    M_fixed = params[\"M_fixed\"]\n",
        "    N_values = params[\"N_values\"]\n",
        "    S0, K, T, r, sigma = params[\"S0\"], params[\"K\"], params[\"T\"], params[\"r\"], params[\"sigma\"]\n",
        "\n",
        "    # Plot 1: Log-space convergence vs paths\n",
        "    plt.figure(figsize=(12, 5))\n",
        "    plt.subplot(1, 2, 1)\n",
        "    for N in N_log_space:\n",
        "        errors = []\n",
        "        for M in M_values:\n",
        "            price = log_space_euler_call_price_vec(M, N, S0, K, T, r, sigma)\n",
        "            errors.append(price - bs_price)\n",
        "        plt.plot(M_values, errors, marker='o', markersize=4, label=f'N={N}', alpha=0.7)\n",
        "    plt.axhline(0, color='black', linestyle='--')\n",
        "    plt.xscale('log')\n",
        "    plt.xlabel('Number of Paths (M)')\n",
        "    plt.ylabel('Price Error (MC - BS)')\n",
        "    plt.title('Log-Space: Error vs Paths')\n",
        "    plt.legend()\n",
        "    plt.grid(True, linestyle='--', alpha=0.7)\n",
        "\n",
        "    # Plot 2: Original SDE convergence vs time steps\n",
        "    plt.subplot(1, 2, 2)\n",
        "    errors = []\n",
        "    for N in N_values:\n",
        "        price = direct_euler_call_price(M_fixed, N, S0, K, T, r, sigma)\n",
        "        errors.append(price - bs_price)\n",
        "    plt.semilogx(N_values, errors, 'bo-', markersize=6)\n",
        "    plt.axhline(0, color='black', linestyle='--')\n",
        "    plt.xlabel('Number of Time Steps (N)')\n",
        "    plt.ylabel('Price Error (MC - BS)')\n",
        "    plt.title(f'Original SDE: Error vs Time Steps (M={M_fixed})')\n",
        "    plt.grid(True, linestyle='--', alpha=0.7)\n",
        "\n",
        "    plt.tight_layout()\n",
        "    plt.show()\n",
        "\n"
      ],
      "metadata": {
        "id": "G4V5nidPSrGP"
      },
      "execution_count": 1,
      "outputs": []
    },
    {
      "cell_type": "code",
      "source": [
        "# ============================== Main Function ==============================\n",
        "def main():\n",
        "    \"\"\"Main execution routine.\"\"\"\n",
        "    # Parameter settings\n",
        "    params = {\n",
        "        \"S0\": 100.0,\n",
        "        \"K\": 100.0,\n",
        "        \"T\": 1.0,\n",
        "        \"r\": 0.05,\n",
        "        \"sigma\": 0.2,\n",
        "        \"M_values\": np.unique(np.logspace(2, 5, num=50).astype(int)),\n",
        "        \"N_log_space\": [1, 10, 100],\n",
        "        \"M_fixed\": 100_000,\n",
        "        \"N_values\": [1, 2, 5, 10, 20, 50, 100, 200, 500, 1000]\n",
        "    }\n",
        "    np.random.seed(42)\n",
        "\n",
        "    # Compute reference price\n",
        "    bs_price = black_scholes_call(params[\"S0\"], params[\"K\"], params[\"T\"],\n",
        "                                 params[\"r\"], params[\"sigma\"])\n",
        "    print(f\"[Exact Price] Black-Scholes: {bs_price:.4f}\")\n",
        "\n",
        "    # Run convergence analysis\n",
        "    plot_convergence(bs_price, params)\n",
        "\n",
        "    # Demonstrate high-accuracy results with CORRECT parameter passing\n",
        "    print(\"\\n[High-Accuracy Simulations]\")\n",
        "    print(f\"Log-Space (N=1, M=1e6): {log_space_euler_call_price_vec(1_000_000, 1, params['S0'], params['K'], params['T'], params['r'], params['sigma']):.4f}\")\n",
        "    print(f\"Original SDE (N=500, M=1e5): {direct_euler_call_price(100_000, 500, params['S0'], params['K'], params['T'], params['r'], params['sigma']):.4f}\")\n",
        "\n",
        "if __name__ == \"__main__\":\n",
        "    main()"
      ],
      "metadata": {
        "colab": {
          "base_uri": "https://localhost:8080/"
        },
        "id": "6mAIrXKQTLHM",
        "outputId": "47a46235-5db6-4f26-8e60-fc1231279141"
      },
      "execution_count": null,
      "outputs": [
        {
          "output_type": "stream",
          "name": "stdout",
          "text": [
            "[Exact Price] Black-Scholes: 10.4506\n"
          ]
        }
      ]
    },
    {
      "cell_type": "markdown",
      "source": [
        "### 📌 Comment: Monte Carlo Convergence for European Call Pricing\n",
        "\n",
        "This experiment evaluates the convergence of Monte Carlo estimators for a European call option priced under the Black-Scholes model.\n",
        "\n",
        "**Settings:**\n",
        "- $S_0 = 100.0$, $K = 100.0$, $T = 1.0$\n",
        "- $r = 0.05$, $\\sigma = 0.2$\n",
        "\n",
        "---\n",
        "\n",
        "**Reference Price (Black-Scholes Closed Form):**  \n",
        "$C_{BS}$ = 10.4506\n",
        "\n",
        "---\n",
        "\n",
        "**Log-Space Simulation (Exact in 1 Step):**  \n",
        "With $N = 1$ and $10^6$ paths:  \n",
        "$C_{MC}$ = 10.4342\n",
        "\n",
        "**Original SDE Simulation:**  \n",
        "With $N = 500$ and $10^5$ paths:  \n",
        "$C_{MC}$ = 10.3941\n",
        "\n",
        "---\n",
        "\n",
        "**Conclusion:**\n",
        "- **Log-space simulation with $N = 1$** provides the most efficient and exact discretization because the log-normal terminal distribution is sampled directly.\n",
        "- **Original SDE simulation** requires significantly more time steps to converge and introduces discretization error.\n",
        "- Euler discretization in log-space is **more robust and faster**, especially for vanilla European options with known exact dynamics.\n"
      ],
      "metadata": {
        "id": "UTZs6okXBJ9I"
      }
    }
  ]
}